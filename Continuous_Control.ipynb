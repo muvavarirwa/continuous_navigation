{
 "cells": [
  {
   "cell_type": "markdown",
   "metadata": {},
   "source": [
    "# Continuous Control\n",
    "\n",
    "---\n",
    "\n",
    "In this notebook, you will learn how to use the Unity ML-Agents environment for the second project of the [Deep Reinforcement Learning Nanodegree](https://www.udacity.com/course/deep-reinforcement-learning-nanodegree--nd893) program.\n",
    "\n",
    "### 1. Start the Environment\n",
    "\n",
    "We begin by importing the necessary packages.  If the code cell below returns an error, please revisit the project instructions to double-check that you have installed [Unity ML-Agents](https://github.com/Unity-Technologies/ml-agents/blob/master/docs/Installation.md) and [NumPy](http://www.numpy.org/)."
   ]
  },
  {
   "cell_type": "code",
   "execution_count": 1,
   "metadata": {},
   "outputs": [
    {
     "data": {
      "text/html": [
       "<style>.container { width:100% !important; }</style>"
      ],
      "text/plain": [
       "<IPython.core.display.HTML object>"
      ]
     },
     "metadata": {},
     "output_type": "display_data"
    },
    {
     "data": {
      "text/plain": [
       "device(type='cuda', index=1)"
      ]
     },
     "execution_count": 1,
     "metadata": {},
     "output_type": "execute_result"
    }
   ],
   "source": [
    "import pandas as pd\n",
    "from IPython.core.display import display, HTML\n",
    "display(HTML(\"<style>.container { width:100% !important; }</style>\"))\n",
    "\n",
    "#pd.set_option('display.height', 1000)\n",
    "pd.set_option('display.max_rows', 500)\n",
    "pd.set_option('display.max_columns', 500)\n",
    "pd.set_option('display.width', 1000)\n",
    "pd.set_option('display.expand_frame_repr', False)\n",
    "pd.set_option('max_colwidth', 800)\n",
    "pd.set_option('display.max_colwidth', 500)\n",
    "pd.set_option('expand_frame_repr', True)\n",
    "\n",
    "\n",
    "import torch\n",
    "import torch.optim as optim\n",
    "import torch.nn as nn\n",
    "import torch.nn.functional as F\n",
    "import matplotlib.pyplot as plt\n",
    "import numpy as np\n",
    "\n",
    "import os\n",
    "import sys\n",
    "sys.path.append('/home/ubuntu/udacity/deep-reinforcement-learning/p2_navigation/Reacher_Linux/')\n",
    "sys.path.append('/home/ubuntu/Unity/ml-agents/ml-agents')\n",
    "sys.path.append(\"/home/ubuntu/udacity/deep-reinforcement-learning/python/\")\n",
    "from unityagents import UnityEnvironment\n",
    "\n",
    "# check and use GPU if available if not use CPU\n",
    "device  = torch.device(\"cuda:1\" if torch.cuda.is_available() else \"cpu\")\n",
    "device"
   ]
  },
  {
   "cell_type": "markdown",
   "metadata": {},
   "source": [
    "Next, we will start the environment!  **_Before running the code cell below_**, change the `file_name` parameter to match the location of the Unity environment that you downloaded.\n",
    "\n",
    "- **Mac**: `\"path/to/Reacher.app\"`\n",
    "- **Windows** (x86): `\"path/to/Reacher_Windows_x86/Reacher.exe\"`\n",
    "- **Windows** (x86_64): `\"path/to/Reacher_Windows_x86_64/Reacher.exe\"`\n",
    "- **Linux** (x86): `\"path/to/Reacher_Linux/Reacher.x86\"`\n",
    "- **Linux** (x86_64): `\"path/to/Reacher_Linux/Reacher.x86_64\"`\n",
    "- **Linux** (x86, headless): `\"path/to/Reacher_Linux_NoVis/Reacher.x86\"`\n",
    "- **Linux** (x86_64, headless): `\"path/to/Reacher_Linux_NoVis/Reacher.x86_64\"`\n",
    "\n",
    "For instance, if you are using a Mac, then you downloaded `Reacher.app`.  If this file is in the same folder as the notebook, then the line below should appear as follows:\n",
    "```\n",
    "env = UnityEnvironment(file_name=\"Reacher.app\")\n",
    "```"
   ]
  },
  {
   "cell_type": "code",
   "execution_count": 2,
   "metadata": {},
   "outputs": [
    {
     "name": "stderr",
     "output_type": "stream",
     "text": [
      "INFO:unityagents:\n",
      "'Academy' started successfully!\n",
      "Unity Academy name: Academy\n",
      "        Number of Brains: 1\n",
      "        Number of External Brains : 1\n",
      "        Lesson number : 0\n",
      "        Reset Parameters :\n",
      "\t\tgoal_speed -> 1.0\n",
      "\t\tgoal_size -> 5.0\n",
      "Unity brain name: ReacherBrain\n",
      "        Number of Visual Observations (per agent): 0\n",
      "        Vector Observation space type: continuous\n",
      "        Vector Observation space size (per agent): 33\n",
      "        Number of stacked Vector Observation: 1\n",
      "        Vector Action space type: continuous\n",
      "        Vector Action space size (per agent): 4\n",
      "        Vector Action descriptions: , , , \n"
     ]
    }
   ],
   "source": [
    "env = UnityEnvironment(file_name='/home/ubuntu/udacity/deep-reinforcement-learning/p2_continuous-control/Reacher_Linux/Reacher.x86_64', worker_id=2, no_graphics=True)"
   ]
  },
  {
   "cell_type": "markdown",
   "metadata": {},
   "source": [
    "Environments contain **_brains_** which are responsible for deciding the actions of their associated agents. Here we check for the first brain available, and set it as the default brain we will be controlling from Python."
   ]
  },
  {
   "cell_type": "code",
   "execution_count": 3,
   "metadata": {},
   "outputs": [
    {
     "name": "stdout",
     "output_type": "stream",
     "text": [
      "/home/ubuntu/udacity/deep-reinforcement-learning/p2_continuous-control\r\n"
     ]
    }
   ],
   "source": [
    "!pwd"
   ]
  },
  {
   "cell_type": "code",
   "execution_count": 4,
   "metadata": {},
   "outputs": [
    {
     "data": {
      "text/plain": [
       "<unityagents.brain.BrainParameters at 0x7fbbb2cd9fd0>"
      ]
     },
     "execution_count": 4,
     "metadata": {},
     "output_type": "execute_result"
    }
   ],
   "source": [
    "# get the default brain\n",
    "brain_name = env.brain_names[0]\n",
    "brain = env.brains[brain_name]\n",
    "brain"
   ]
  },
  {
   "cell_type": "markdown",
   "metadata": {},
   "source": [
    "### 2. Examine the State and Action Spaces\n",
    "\n",
    "In this environment, a double-jointed arm can move to target locations. A reward of `+0.1` is provided for each step that the agent's hand is in the goal location. Thus, the goal of your agent is to maintain its position at the target location for as many time steps as possible.\n",
    "\n",
    "The observation space consists of `33` variables corresponding to position, rotation, velocity, and angular velocities of the arm.  Each action is a vector with four numbers, corresponding to torque applicable to two joints.  Every entry in the action vector must be a number between `-1` and `1`.\n",
    "\n",
    "Run the code cell below to print some information about the environment."
   ]
  },
  {
   "cell_type": "code",
   "execution_count": 5,
   "metadata": {},
   "outputs": [],
   "source": [
    "# reset the environment\n",
    "env_info = env.reset(train_mode=True)[brain_name]"
   ]
  },
  {
   "cell_type": "code",
   "execution_count": 6,
   "metadata": {},
   "outputs": [
    {
     "name": "stdout",
     "output_type": "stream",
     "text": [
      "Number of agents: 1\n"
     ]
    }
   ],
   "source": [
    "# number of agents\n",
    "num_agents = len(env_info.agents)\n",
    "print('Number of agents:', num_agents)"
   ]
  },
  {
   "cell_type": "code",
   "execution_count": 7,
   "metadata": {},
   "outputs": [
    {
     "name": "stdout",
     "output_type": "stream",
     "text": [
      "Size of each action: 4\n"
     ]
    }
   ],
   "source": [
    "# size of each action\n",
    "action_size = brain.vector_action_space_size\n",
    "print('Size of each action:', action_size)"
   ]
  },
  {
   "cell_type": "code",
   "execution_count": 8,
   "metadata": {},
   "outputs": [
    {
     "name": "stdout",
     "output_type": "stream",
     "text": [
      "There are 1 agents. Each observes a state with length: 33\n",
      "The state for the first agent looks like: [ 0.00000000e+00 -4.00000000e+00  0.00000000e+00  1.00000000e+00\n",
      " -0.00000000e+00 -0.00000000e+00 -4.37113883e-08  0.00000000e+00\n",
      "  0.00000000e+00  0.00000000e+00  0.00000000e+00  0.00000000e+00\n",
      "  0.00000000e+00  0.00000000e+00 -1.00000000e+01  0.00000000e+00\n",
      "  1.00000000e+00 -0.00000000e+00 -0.00000000e+00 -4.37113883e-08\n",
      "  0.00000000e+00  0.00000000e+00  0.00000000e+00  0.00000000e+00\n",
      "  0.00000000e+00  0.00000000e+00  5.75471878e+00 -1.00000000e+00\n",
      "  5.55726671e+00  0.00000000e+00  1.00000000e+00  0.00000000e+00\n",
      " -1.68164849e-01]\n"
     ]
    }
   ],
   "source": [
    "# examine the state space \n",
    "states = env_info.vector_observations\n",
    "state_size = states.shape[1]\n",
    "print('There are {} agents. Each observes a state with length: {}'.format(states.shape[0], state_size))\n",
    "print('The state for the first agent looks like:', states[0])"
   ]
  },
  {
   "cell_type": "markdown",
   "metadata": {},
   "source": [
    "### 3. Take Random Actions in the Environment\n",
    "\n",
    "In the next code cell, you will learn how to use the Python API to control the agent and receive feedback from the environment.\n",
    "\n",
    "Once this cell is executed, you will watch the agent's performance, if it selects an action at random with each time step.  A window should pop up that allows you to observe the agent, as it moves through the environment.  \n",
    "\n",
    "Of course, as part of the project, you'll have to change the code so that the agent is able to use its experience to gradually choose better actions when interacting with the environment!"
   ]
  },
  {
   "cell_type": "markdown",
   "metadata": {},
   "source": [
    "When finished, you can close the environment."
   ]
  },
  {
   "cell_type": "markdown",
   "metadata": {},
   "source": [
    "### 4. It's Your Turn!\n",
    "\n",
    "Now it's your turn to train your own agent to solve the environment!  When training the environment, set `train_mode=True`, so that the line for resetting the environment looks like the following:\n",
    "```python\n",
    "env_info = env.reset(train_mode=True)[brain_name]\n",
    "```"
   ]
  },
  {
   "cell_type": "markdown",
   "metadata": {},
   "source": [
    "###  Continuous Control wtih Deep Deterministic Policy Gradients"
   ]
  },
  {
   "cell_type": "code",
   "execution_count": 9,
   "metadata": {},
   "outputs": [],
   "source": [
    "\n",
    "BUFFER_SIZE    = int(1e6) # replay buffer size\n",
    "BATCH_SIZE     = 1024      # minibatch size\n",
    "GAMMA          = 0.99     # discount factor\n",
    "TAU            = 1e-3     # for soft update of target parameters\n",
    "LR_ACTOR       = 1e-4     # learning rate of the actor \n",
    "LR_CRITIC      = 3e-4     # learning rate of the critic\n",
    "WEIGHT_DECAY   = 0.0001   # L2 weight decay\n",
    "UPDATE_EVERY   = 5        # how often to update the network\n",
    "EXPLORE_NOISE  = 0.05\n",
    "\n",
    "FC1_UNITS      = 768\n",
    "FC2_UNITS      = 1024\n",
    "FC3_UNITS      = 64\n",
    "seed           = 0"
   ]
  },
  {
   "cell_type": "markdown",
   "metadata": {},
   "source": [
    "#### NN Model"
   ]
  },
  {
   "cell_type": "code",
   "execution_count": 10,
   "metadata": {},
   "outputs": [],
   "source": [
    "import torch\n",
    "import torch.nn as nn\n",
    "import torch.nn.functional as F\n",
    "\n",
    "\n",
    "def hidden_init(layer):\n",
    "    fan_in = layer.weight.data.size()[0]\n",
    "    lim = 1. / np.sqrt(fan_in)\n",
    "    return (-lim, lim)\n",
    "\n",
    "\n",
    "class ActorNetwork(nn.Module):\n",
    "    \"\"\"Actor (Policy) Model.\"\"\"\n",
    "\n",
    "    def __init__(self, state_size, action_size, seed=42, fc1_units=300, fc2_units=400, fc3_units=128):\n",
    "\n",
    "        super(ActorNetwork, self).__init__()\n",
    "        self.seed = torch.manual_seed(seed)\n",
    "        self.fc1 = nn.Linear(state_size, fc1_units)\n",
    "        self.fc2 = nn.Linear(fc1_units, fc2_units)\n",
    "        #self.fc3 = nn.Linear(fc2_units, fc3_units)\n",
    "        self.fc3 = nn.Linear(fc2_units, action_size)\n",
    "\n",
    "\n",
    "        self.reset_parameters()\n",
    "\n",
    "    def reset_parameters(self):\n",
    "        self.fc1.weight.data.uniform_(*hidden_init(self.fc1))\n",
    "        self.fc2.weight.data.uniform_(*hidden_init(self.fc2))\n",
    "        #self.fc3.weight.data.uniform_(*hidden_init(self.fc3))\n",
    "        self.fc3.weight.data.uniform_(-3e-3, 3e-3)\n",
    "        \n",
    "    def forward(self, state):\n",
    "        \"\"\"Build a network that maps state -> action values.\"\"\"\n",
    "        x = F.relu(self.fc1(state))\n",
    "        x = F.relu(self.fc2(x))\n",
    "        #x = F.relu(self.fc3(x))\n",
    "        return torch.tanh(self.fc3(x))\n",
    "    \n",
    "    \n",
    "class CriticNetwork(nn.Module):\n",
    "    \"\"\"Critic (Policy) Model.\"\"\"\n",
    "\n",
    "    def __init__(self, state_size, action_size, seed=42, fc1_units=300, fc2_units=400, fc3_units=128):\n",
    "\n",
    "        super(CriticNetwork, self).__init__()\n",
    "        self.seed = torch.manual_seed(seed)\n",
    "        self.fc1 = nn.Linear(state_size+action_size, fc1_units)\n",
    "        self.fc2 = nn.Linear(fc1_units, fc2_units)\n",
    "        #self.fc3 = nn.Linear(fc2_units, fc3_units)\n",
    "        self.fc3 = nn.Linear(fc2_units, 1)\n",
    "        self.reset_parameters()\n",
    "\n",
    "    def reset_parameters(self):\n",
    "        self.fc1.weight.data.uniform_(*hidden_init(self.fc1))\n",
    "        self.fc2.weight.data.uniform_(*hidden_init(self.fc2))\n",
    "        #self.fc3.weight.data.uniform_(*hidden_init(self.fc3))\n",
    "        self.fc3.weight.data.uniform_(-3e-3, 3e-3)\n",
    "        \n",
    "    def forward(self, state, action):\n",
    "        \"\"\"Build a network that maps state -> action values.\"\"\"\n",
    "        x = F.relu(self.fc1(torch.cat((state, action),dim=1)))\n",
    "        x = F.relu(self.fc2(x))\n",
    "        #x = F.relu(self.fc3(x))\n",
    "        return self.fc3(x)\n"
   ]
  },
  {
   "cell_type": "code",
   "execution_count": 11,
   "metadata": {},
   "outputs": [],
   "source": [
    "states_ = None\n",
    "next_states = None\n",
    "actions = None\n",
    "mean_std_actions_vector = {\"mean\":[],\"std\":[],\"min\":[],\"max\":[]}\n",
    "mean_std_states_vector =  {\"mean\":[],\"std\":[],\"min\":[],\"max\":[]}"
   ]
  },
  {
   "cell_type": "code",
   "execution_count": 12,
   "metadata": {},
   "outputs": [],
   "source": [
    "os.chdir(\"/home/ubuntu/udacity/deep-reinforcement-learning/p2_continuous-control/\")"
   ]
  },
  {
   "cell_type": "code",
   "execution_count": 13,
   "metadata": {},
   "outputs": [],
   "source": [
    "def get_anova(batch):\n",
    "    batch_mean = torch.mean(batch, dim=0)\n",
    "    batch_std  = torch.std(batch, dim=0)\n",
    "    batch_min  = torch.min(batch, dim=0)\n",
    "    batch_max  = torch.max(batch, dim=0)\n",
    "    \n",
    "    return [batch_mean, batch_std, batch_min, batch_max]"
   ]
  },
  {
   "cell_type": "code",
   "execution_count": 14,
   "metadata": {},
   "outputs": [],
   "source": [
    "import model\n",
    "import math\n",
    "import numpy as np\n",
    "import random\n",
    "import copy\n",
    "from collections import namedtuple, deque\n",
    "\n",
    "\n",
    "import torch\n",
    "import torch.nn.functional as F\n",
    "import torch.optim as optim\n",
    "\n",
    "\n",
    "#device = torch.device(\"cpu\")\n",
    "\n",
    "class Agent():\n",
    "    \"\"\"Interacts with and learns from the environment.\"\"\"\n",
    "\n",
    "    def __init__(self, state_size, action_size, seed=42):\n",
    "\n",
    "        self.state_size = state_size\n",
    "        self.action_size = action_size\n",
    "        self.seed = seed\n",
    "\n",
    "        # Q-Network\n",
    "        self.actor_network    = ActorNetwork(state_size, action_size, self.seed, FC1_UNITS, FC2_UNITS, FC3_UNITS).to(device)\n",
    "        self.actor_target     = ActorNetwork(state_size, action_size, self.seed, FC1_UNITS, FC2_UNITS, FC3_UNITS).to(device)\n",
    "        self.actor_optimizer  = optim.Adam(self.actor_network.parameters(), lr=LR_ACTOR)\n",
    "        \n",
    "        \n",
    "        self.critic_network   = CriticNetwork(state_size, action_size, self.seed, FC1_UNITS, FC2_UNITS, FC3_UNITS).to(device)\n",
    "        self.critic_target    = CriticNetwork(state_size, action_size, self.seed, FC1_UNITS, FC2_UNITS, FC3_UNITS).to(device)\n",
    "        self.critic_optimizer = optim.Adam(self.critic_network.parameters(), lr=LR_CRITIC, weight_decay=WEIGHT_DECAY)\n",
    "\n",
    "        # Replay memory\n",
    "        self.memory = ReplayBuffer(action_size, BUFFER_SIZE, BATCH_SIZE, self.seed)\n",
    "        \n",
    "        # Noise process\n",
    "        self.noise = OUNoise(action_size, self.seed)\n",
    "        \n",
    "        # Initialize time step (for updating every UPDATE_EVERY steps)\n",
    "        self.t_step = 0\n",
    "        \n",
    "    \n",
    "    def step(self, state, action, reward, next_state, done):\n",
    "        # Save experience in replay memory\n",
    "        \n",
    "        self.memory.add(state, action, reward, next_state, done)\n",
    "        \n",
    "        if len(self.memory) > BATCH_SIZE:\n",
    "            experiences = self.memory.sample()\n",
    "            self.train(experiences)\n",
    "            \n",
    "\n",
    "    def act(self, current_state):\n",
    "        \n",
    "        with torch.no_grad():\n",
    "                \n",
    "            self.actor_network.eval()\n",
    "                \n",
    "            input_state = torch.from_numpy(current_state).float().to(device)\n",
    "                \n",
    "            with torch.no_grad():\n",
    "                action = self.actor_network(input_state).cpu().data.numpy()\n",
    "\n",
    "            self.actor_network.train()\n",
    "                \n",
    "            action += self.noise.sample()\n",
    "            \n",
    "        return np.clip(action,-1,1)\n",
    "\n",
    "    def reset(self):\n",
    "        self.noise.reset()\n",
    "        \n",
    "        \n",
    "    def train(self, experiences):\n",
    "        \n",
    "        global states_\n",
    "        global next_states_\n",
    "        global actions_\n",
    "        global max_min_actions_vector\n",
    "        global max_min_states_vector\n",
    "\n",
    "        states, actions, rewards, next_states, dones = experiences\n",
    "        \n",
    "\n",
    "        \n",
    "        \n",
    "        # ---------------------------- update critic ---------------------------- #\n",
    "        \n",
    "        with torch.no_grad():\n",
    "            # Get predicted next-state actions and Q values from target models\n",
    "            actions_next   = self.actor_target(next_states)\n",
    "            Q_targets_next = self.critic_target(next_states, actions_next)\n",
    "\n",
    "\n",
    "            # Compute Q targets for current states (y_i)\n",
    "            Q_targets      = rewards + (GAMMA * Q_targets_next * (1 - dones))\n",
    "        \n",
    "        \n",
    "        # Compute critic loss\n",
    "        Q_expected     = self.critic_network(states, actions)\n",
    "        critic_loss    = F.mse_loss(Q_expected, Q_targets)\n",
    "        \n",
    "        \n",
    "        # Minimize the loss\n",
    "        self.critic_optimizer.zero_grad()\n",
    "        critic_loss.backward()\n",
    "        self.critic_optimizer.step()\n",
    "\n",
    "        \n",
    "        # ---------------------------- update actor ---------------------------- #\n",
    "        # Compute actor loss\n",
    "        actions_pred = self.actor_network(states)\n",
    "        actor_loss = -self.critic_network(states, actions_pred).mean()\n",
    "        \n",
    "        \n",
    "        # Minimize the loss\n",
    "        self.actor_optimizer.zero_grad()\n",
    "        actor_loss.backward()\n",
    "        self.actor_optimizer.step()\n",
    "\n",
    "        \n",
    "        # ----------------------- update target networks ----------------------- #\n",
    "        self.soft_update(self.critic_network, self.critic_target, TAU)\n",
    "        self.soft_update(self.actor_network,  self.actor_target,  TAU)     \n",
    "        \n",
    "\n",
    "    def soft_update(self, local_model, target_model, tau):\n",
    "        \"\"\"Soft update model parameters.\n",
    "        θ_target = τ*θ_local + (1 - τ)*θ_target\n",
    "\n",
    "        Params\n",
    "        ======\n",
    "            local_model: PyTorch model (weights will be copied from)\n",
    "            target_model: PyTorch model (weights will be copied to)\n",
    "            tau (float): interpolation parameter \n",
    "        \"\"\"\n",
    "        for target_param, local_param in zip(target_model.parameters(), local_model.parameters()):\n",
    "            target_param.data.copy_(tau*local_param.data + (1.0-tau)*target_param.data)\n",
    "                \n",
    "class OUNoise:\n",
    "    \"\"\"Ornstein-Uhlenbeck process.\"\"\"\n",
    "\n",
    "    def __init__(self, size, seed, mu=0., theta=0.15, sigma=0.2):\n",
    "        \"\"\"Initialize parameters and noise process.\"\"\"\n",
    "        self.mu = mu * np.ones(size)\n",
    "        self.theta = theta\n",
    "        self.sigma = sigma\n",
    "        self.seed = random.seed(seed)\n",
    "        self.reset()\n",
    "\n",
    "    def reset(self):\n",
    "        \"\"\"Reset the internal state (= noise) to mean (mu).\"\"\"\n",
    "        self.state = copy.copy(self.mu)\n",
    "\n",
    "    def sample(self):\n",
    "        \"\"\"Update internal state and return it as a noise sample.\"\"\"\n",
    "        x = self.state\n",
    "        dx = self.theta * (self.mu - x) + self.sigma * np.array([random.random() for i in range(len(x))])\n",
    "        self.state = x + dx\n",
    "        return self.state\n",
    "    \n",
    "\n",
    "class ReplayBuffer:\n",
    "    \"\"\"Fixed-size buffer to store experience tuples.\"\"\"\n",
    "\n",
    "    def __init__(self, action_size, buffer_size, batch_size, seed=42):\n",
    "        \"\"\"Initialize a ReplayBuffer object.\n",
    "\n",
    "        Params\n",
    "        ======\n",
    "            action_size (int): dimension of each action\n",
    "            buffer_size (int): maximum size of buffer\n",
    "            batch_size (int): size of each training batch\n",
    "            seed (int): random seed\n",
    "        \"\"\"\n",
    "        self.action_size = action_size\n",
    "        self.memory      = deque(maxlen=buffer_size)  \n",
    "        self.batch_size  = batch_size\n",
    "        self.experience  = namedtuple(\"Experience\", field_names=[\"state\", \"action\", \"reward\", \"next_state\", \"done\"])\n",
    "        self.seed        = random.seed(seed)\n",
    "    \n",
    "    def add(self, state, action, reward, next_state, done):\n",
    "        \"\"\"Add a new experience to memory.\"\"\"\n",
    "        e = self.experience(state, action, reward, next_state, done)\n",
    "        self.memory.append(e)\n",
    "\n",
    "    \n",
    "    def sample(self):\n",
    "        \"\"\"Randomly sample a batch of experiences from memory.\"\"\"\n",
    "        experiences   = random.sample(self.memory, k=self.batch_size)\n",
    "        \n",
    "        states        = torch.from_numpy(np.vstack([e.state for e in experiences if e is not None])).float().to(device)\n",
    "        actions       = torch.from_numpy(np.vstack([e.action for e in experiences if e is not None])).float().to(device)\n",
    "        rewards       = torch.from_numpy(np.vstack([e.reward for e in experiences if e is not None])).float().to(device)\n",
    "        next_states   = torch.from_numpy(np.vstack([e.next_state for e in experiences if e is not None])).float().to(device)\n",
    "        dones         = torch.from_numpy(np.vstack([e.done for e in experiences if e is not None]).astype(np.uint8)).float().to(device)\n",
    "        \n",
    "        return (states, actions, rewards, next_states, dones)\n",
    "\n",
    "    def __len__(self):\n",
    "        \"\"\"Return the current size of internal memory.\"\"\"\n",
    "        return len(self.memory)"
   ]
  },
  {
   "cell_type": "code",
   "execution_count": 15,
   "metadata": {},
   "outputs": [
    {
     "name": "stdout",
     "output_type": "stream",
     "text": [
      "===============ACTOR NETS =================\n",
      "ActorNetwork(\n",
      "  (fc1): Linear(in_features=33, out_features=768, bias=True)\n",
      "  (fc2): Linear(in_features=768, out_features=1024, bias=True)\n",
      "  (fc3): Linear(in_features=1024, out_features=4, bias=True)\n",
      ")\n",
      "ActorNetwork(\n",
      "  (fc1): Linear(in_features=33, out_features=768, bias=True)\n",
      "  (fc2): Linear(in_features=768, out_features=1024, bias=True)\n",
      "  (fc3): Linear(in_features=1024, out_features=4, bias=True)\n",
      ")\n",
      "===============CRITIC NETS ================\n",
      "CriticNetwork(\n",
      "  (fc1): Linear(in_features=37, out_features=768, bias=True)\n",
      "  (fc2): Linear(in_features=768, out_features=1024, bias=True)\n",
      "  (fc3): Linear(in_features=1024, out_features=1, bias=True)\n",
      ")\n",
      "CriticNetwork(\n",
      "  (fc1): Linear(in_features=37, out_features=768, bias=True)\n",
      "  (fc2): Linear(in_features=768, out_features=1024, bias=True)\n",
      "  (fc3): Linear(in_features=1024, out_features=1, bias=True)\n",
      ")\n",
      "===========================================\n",
      "Episode 100\tIterations: 100\tAverage Score: 0.94\n",
      "Episode 200\tIterations: 200\tAverage Score: 2.33\n",
      "Episode 300\tIterations: 300\tAverage Score: 3.49\n",
      "Episode 400\tIterations: 400\tAverage Score: 4.39\n",
      "Episode 500\tIterations: 500\tAverage Score: 5.94\n",
      "Episode 600\tIterations: 600\tAverage Score: 7.00\n",
      "Episode 700\tIterations: 700\tAverage Score: 7.92\n",
      "Episode 800\tIterations: 800\tAverage Score: 8.19\n",
      "Episode 900\tIterations: 900\tAverage Score: 7.93\n",
      "Episode 1000\tIterations: 1000\tAverage Score: 8.34\n",
      "Episode 1100\tIterations: 1100\tAverage Score: 10.31\n",
      "Episode 1200\tIterations: 1200\tAverage Score: 12.97\n",
      "Episode 1300\tIterations: 1300\tAverage Score: 14.30\n",
      "Episode 1400\tIterations: 1400\tAverage Score: 14.85\n",
      "Episode 1500\tIterations: 1500\tAverage Score: 20.35\n",
      "Episode 1600\tIterations: 1600\tAverage Score: 23.72\n",
      "Episode 1700\tIterations: 1700\tAverage Score: 23.67\n",
      "Episode 1800\tIterations: 1800\tAverage Score: 25.54\n",
      "Episode 1900\tIterations: 1900\tAverage Score: 26.11\n",
      "Episode 2000\tIterations: 2000\tAverage Score: 29.42\n",
      "Episode 2100\tIterations: 2100\tAverage Score: 30.36\n",
      "Episode 2170\tAverage Score: 31.01\n",
      "Environment solved in 2070 episodes!\tAverage Score: 31.01\n"
     ]
    }
   ],
   "source": [
    "\n",
    "\n",
    "NUM_ITER = 0\n",
    "MAX_T    = 1000\n",
    "\n",
    "scores = []\n",
    "def DDPG(n_episodes=20000):\n",
    "\n",
    "    global scores                        # list containing scores from each episode\n",
    "    global NUM_ITER\n",
    "    scores_window = deque(maxlen=100)  # last 100 scores\n",
    "\n",
    "    for i_episode in range(1, n_episodes+1):\n",
    "        env_info  = env.reset()[brain_name]\n",
    "        state     = env_info.vector_observations[0]\n",
    "\n",
    "        score     = 0\n",
    "        NUM_ITER  += 1\n",
    "        for t in range(MAX_T):\n",
    "            action     = agent.act(state)\n",
    "\n",
    "            env_info   = env.step(action)[brain_name]\n",
    "            next_state = env_info.vector_observations[0]\n",
    "            \n",
    "            reward     = env_info.rewards[0]                   # get the reward\n",
    "            done       = env_info.local_done[0]\n",
    "            agent.step(state, action, reward, next_state, done)\n",
    "            state      = next_state\n",
    "            \n",
    "            score      += reward\n",
    "            \n",
    "\n",
    "            if done:\n",
    "                break \n",
    "        scores_window.append(score)       # save most recent score\n",
    "        scores.append(score)              # save most recent score\n",
    "\n",
    "        print('\\rEpisode {}\\tAverage Score: {:.2f}'.format(i_episode, np.mean(scores_window)), end=\"\")\n",
    "        if i_episode % 100 == 0:\n",
    "            print('\\rEpisode {}\\tIterations: {}\\tAverage Score: {:.2f}'.format(i_episode, NUM_ITER,np.mean(scores_window)))\n",
    "        if np.mean(scores_window)>=31.0:\n",
    "            print('\\nEnvironment solved in {:d} episodes!\\tAverage Score: {:.2f}'.format(i_episode-100, np.mean(scores_window)))\n",
    "            torch.save(agent.actor_network.state_dict(), 'checkpoint.pth')\n",
    "            break\n",
    "    return scores\n",
    "\n",
    "\n",
    "agent = Agent(state_size,action_size,42)\n",
    "\n",
    "print(\"===============ACTOR NETS =================\")\n",
    "print(agent.actor_network)\n",
    "print(agent.actor_target)\n",
    "print(\"===============CRITIC NETS ================\")\n",
    "print(agent.critic_network)\n",
    "print(agent.critic_target)\n",
    "print(\"===========================================\")\n",
    "\n",
    "scores = DDPG()\n"
   ]
  },
  {
   "cell_type": "code",
   "execution_count": 17,
   "metadata": {},
   "outputs": [
    {
     "data": {
      "image/png": "[encoded data removed]",
      "text/plain": [
       "<Figure size 432x288 with 1 Axes>"
      ]
     },
     "metadata": {
      "needs_background": "light"
     },
     "output_type": "display_data"
    }
   ],
   "source": [
    "fig = plt.figure()\n",
    "ax = fig.add_subplot(111)\n",
    "plt.plot(np.arange(1, len(scores)+1), scores)\n",
    "plt.ylabel('Score')\n",
    "plt.xlabel('Episode #')\n",
    "plt.show()"
   ]
  },
  {
   "cell_type": "code",
   "execution_count": 21,
   "metadata": {},
   "outputs": [
    {
     "name": "stdout",
     "output_type": "stream",
     "text": [
      "-rw-rw-r-- 1 ubuntu ubuntu 3.2M Jul  8 08:49 checkpoint.pth\r\n",
      "-rw-rw-r-- 1 ubuntu ubuntu 3.2M Jul  8 08:53 checkpoint_768x1024.pth\r\n"
     ]
    }
   ],
   "source": [
    "!ls -alrth checkpoint*.pth "
   ]
  },
  {
   "cell_type": "code",
   "execution_count": null,
   "metadata": {},
   "outputs": [],
   "source": []
  },
  {
   "cell_type": "code",
   "execution_count": null,
   "metadata": {},
   "outputs": [],
   "source": []
  },
  {
   "cell_type": "code",
   "execution_count": null,
   "metadata": {},
   "outputs": [],
   "source": []
  }
 ],
 "metadata": {
  "kernelspec": {
   "display_name": "drlnd",
   "language": "python",
   "name": "drlnd"
  },
  "language_info": {
   "codemirror_mode": {
    "name": "ipython",
    "version": 3
   },
   "file_extension": ".py",
   "mimetype": "text/x-python",
   "name": "python",
   "nbconvert_exporter": "python",
   "pygments_lexer": "ipython3",
   "version": "3.7.6"
  }
 },
 "nbformat": 4,
 "nbformat_minor": 2
}
