{
 "cells": [
  {
   "cell_type": "markdown",
   "metadata": {},
   "source": [
    "# Continuous Control\n",
    "\n",
    "---\n",
    "\n",
    "### 1. OBJECTIVE\n",
    "\n",
    "An environment with a double-jointed arm that can move to target locations is provided (Unity, \"Reacher\"). \n",
    "\n",
    "The environment provides an observation space which consists of 33 variables corresponding to position, rotation, velocity, and angular velocities of the arm. Each action is a vector with four numbers, corresponding to torque applicable to two joints. Every entry in the action vector should be a number between -1 and 1. A reward of +0.1 is provided for each step that the agent's hand is in the goal location. The goal of your agent is to maintain its position at the target location for as many time steps as possible.\n",
    "\n",
    "Objective is to develop a model that can average (over 100 episodes) of those average scores is at least +30. "
   ]
  },
  {
   "cell_type": "markdown",
   "metadata": {},
   "source": [
    "### 2. THE LEARNING ALGORITHM: DDPG\n",
    "\n",
    "Deep Deterministic Policy Gradients (DDPG), is an off-policy algorithm that can be used in continuous action spaces. DDPG is off-policy. DDPG uses DQN's strategy of updating Target Networks as well as using a ReplayBuffer. Here DDPG is used to train the ActorNetwork. "
   ]
  },
  {
   "cell_type": "markdown",
   "metadata": {},
   "source": [
    "### 3.  HYPER-PARAMETERS\n",
    "\n",
    "Given the high dimensionality of a discrete-action space analog of this continuous space, it felt appropriate to use (a) large buffer sizes, (b) large feature vector and (c) large hidden layer.\n",
    "\n",
    "The hyperparameters are listed below::"
   ]
  },
  {
   "cell_type": "raw",
   "metadata": {},
   "source": [
    "BUFFER_SIZE    = int(1e6) # replay buffer size\\\n",
    "\n",
    "BATCH_SIZE     = 1024      # minibatch size\\\n",
    "\n",
    "GAMMA          = 0.99     # discount factor\\\n",
    "\n",
    "TAU            = 2e-3     # for soft update of target parameters\\\n",
    "\n",
    "LR_ACTOR       = 5e-4     # learning rate of the actor \\\n",
    "\n",
    "LR_CRITIC      = 1e-3     # learning rate of the critic\\\n",
    "\n",
    "WEIGHT_DECAY   = 0.0001   # L2 weight decay\\\n",
    "\n",
    "UPDATE_EVERY   = 5        # how often to update the network\\\n",
    "\n",
    "EXPLORE_NOISE  = 0.05\\\n",
    "\n",
    "FC1_UNITS      = 768\\\n",
    "\n",
    "FC2_UNITS      = 1024\\\n",
    "\n",
    "FC3_UNITS      = 64\\\n",
    "\n",
    "seed           = 0\\"
   ]
  },
  {
   "cell_type": "markdown",
   "metadata": {},
   "source": [
    "### 4.  MODEL ARCHITECTURE FOR NEURAL NETWORKS\n",
    "\n",
    "The model consists of two (2) neural networks, one each for the Actor and Critic.The model consists of three (3) linear layers.\n",
    "\n",
    "#### Actor Network\n",
    "The first layer has an input-size of 33, equivalent to the number of variables (position, velocity, angular velocities of the arm) in the observation space. The output layer is 768.\n",
    "\n",
    "The hidden layer has an input-size of 768 and an output size of 1024 (I chose a size that was close to input_size*(input_size-1), to allow for as much pair-wise combination of inputs as possible)\n",
    "\n",
    "The output size is set to four (4), equivalent to the action_size; with a TANH function to map the action space\n",
    "\n",
    "#### Critic Network\n",
    "The first layer has an input-size of 33 + 4 = 37, equivalent to the number of variables (position, velocity, angular velocities of the arm) in the observation space AND the action_size. The output layer is 768.\n",
    "\n",
    "The hidden layer has an input-size of 768 and an output size of 1024 (I chose a size that was close to input_size*(input_size-1), to allow for as much pair-wise combination of inputs as possible)\n",
    "\n",
    "The output size is set to one (1), representing a score/value that the critic uses to evaluate Actor performance"
   ]
  },
  {
   "cell_type": "raw",
   "metadata": {},
   "source": [
    "\n",
    "\n",
    "class ActorNetwork(nn.Module):\\\n",
    "\n",
    "    \"\"\"Actor (Policy) Model.\"\"\"\\\n",
    "\n",
    "    def __init__(self, state_size, action_size, seed=42, fc1_units=300, fc2_units=400, fc3_units=128):\\\n",
    "    \n",
    "\n",
    "        super(ActorNetwork, self).__init__()\\\n",
    "        \n",
    "        self.seed = torch.manual_seed(seed)\\\n",
    "        \n",
    "        self.fc1 = nn.Linear(state_size, fc1_units)\\\n",
    "        \n",
    "        self.fc2 = nn.Linear(fc1_units, fc2_units)\\\n",
    "        \n",
    "        #self.fc3 = nn.Linear(fc2_units, fc3_units)\\\n",
    "        \n",
    "        self.fc3 = nn.Linear(fc2_units, action_size)\\\n",
    "\n",
    "\n",
    "        self.reset_parameters()\\\n",
    "\n",
    "    def reset_parameters(self):\\\n",
    "    \n",
    "        self.fc1.weight.data.uniform_(*hidden_init(self.fc1))\\\n",
    "        \n",
    "        self.fc2.weight.data.uniform_(*hidden_init(self.fc2))\\\n",
    "        \n",
    "        #self.fc3.weight.data.uniform_(*hidden_init(self.fc3))\\\n",
    "        \n",
    "        self.fc3.weight.data.uniform_(-3e-3, 3e-3)\\\n",
    "        \n",
    "    def forward(self, state):\\\n",
    "    \n",
    "        \"\"\"Build a network that maps state -> action values.\"\"\"\\\n",
    "        \n",
    "        x = F.relu(self.fc1(state))\\\n",
    "        \n",
    "        x = F.relu(self.fc2(x))\\\n",
    "        \n",
    "        #x = F.relu(self.fc3(x))\\\n",
    "        \n",
    "        return torch.tanh(self.fc3(x))\\\n",
    "    \n",
    "    \n",
    "class CriticNetwork(nn.Module):\\\n",
    "\n",
    "    \"\"\"Critic (Policy) Model.\"\"\"\\\n",
    "\n",
    "    def __init__(self, state_size, action_size, seed=42, fc1_units=300, fc2_units=400, fc3_units=128):\\\n",
    "\n",
    "        super(CriticNetwork, self).__init__()\\\n",
    "        \n",
    "        self.seed = torch.manual_seed(seed)\\\n",
    "        \n",
    "        self.fc1 = nn.Linear(state_size+action_size, fc1_units)\\\n",
    "        \n",
    "        self.fc2 = nn.Linear(fc1_units, fc2_units)\\\n",
    "        \n",
    "        #self.fc3 = nn.Linear(fc2_units, fc3_units)\\\n",
    "        \n",
    "        self.fc3 = nn.Linear(fc2_units, 1)\\\n",
    "        \n",
    "        self.reset_parameters()\\\n",
    "\n",
    "    def reset_parameters(self):\\\n",
    "    \n",
    "        self.fc1.weight.data.uniform_(*hidden_init(self.fc1))\\\n",
    "        \n",
    "        self.fc2.weight.data.uniform_(*hidden_init(self.fc2))\\\n",
    "        \n",
    "        #self.fc3.weight.data.uniform_(*hidden_init(self.fc3))\\\n",
    "        \n",
    "        self.fc3.weight.data.uniform_(-3e-3, 3e-3)\\\n",
    "        \n",
    "    def forward(self, state, action):\\\n",
    "    \n",
    "        \"\"\"Build a network that maps state -> action values.\"\"\"\\\n",
    "        \n",
    "        x = F.relu(self.fc1(torch.cat((state, action),dim=1)))\\\n",
    "        \n",
    "        x = F.relu(self.fc2(x))\\\n",
    "        \n",
    "        #x = F.relu(self.fc3(x))\\\n",
    "        \n",
    "        return self.fc3(x)\\\n"
   ]
  },
  {
   "cell_type": "raw",
   "metadata": {},
   "source": [
    "\n",
    "\n",
    "===============ACTOR NETS =================\\\n",
    "\n",
    "ActorNetwork(\\\n",
    "\n",
    "  (fc1): Linear(in_features=33, out_features=768, bias=True)\\\n",
    "  \n",
    "  (fc2): Linear(in_features=768, out_features=1024, bias=True)\\\n",
    "  \n",
    "  (fc3): Linear(in_features=1024, out_features=4, bias=True)\\\n",
    ")\\\n",
    "\n",
    "ActorNetwork(\\\n",
    "\n",
    "  (fc1): Linear(in_features=33, out_features=768, bias=True)\\\n",
    "  \n",
    "  (fc2): Linear(in_features=768, out_features=1024, bias=True)\\\n",
    "  \n",
    "  (fc3): Linear(in_features=1024, out_features=4, bias=True)\\\n",
    "  \n",
    ")\\\n",
    "\n",
    "===============CRITIC NETS ================\\\n",
    "\n",
    "CriticNetwork(\\\n",
    "\n",
    "  (fc1): Linear(in_features=37, out_features=768, bias=True)\\\n",
    "  \n",
    "  (fc2): Linear(in_features=768, out_features=1024, bias=True)\\\n",
    "  \n",
    "  (fc3): Linear(in_features=1024, out_features=1, bias=True)\\\n",
    "  \n",
    ")\\\n",
    "\n",
    "CriticNetwork(\\\n",
    "\n",
    "  (fc1): Linear(in_features=37, out_features=768, bias=True)\\\n",
    "  \n",
    "  (fc2): Linear(in_features=768, out_features=1024, bias=True)\\\n",
    "  \n",
    "  (fc3): Linear(in_features=1024, out_features=1, bias=True)\\\n",
    "  \n",
    ")\\\n",
    "\n",
    "============================================\\\n"
   ]
  },
  {
   "cell_type": "markdown",
   "metadata": {},
   "source": [
    "### 5.  NUMBER OF EPISODES TO SOLVE THE ENVIRONMENT\n",
    "\n",
    "Admittedly, this model converged *slowly* \n",
    "\n",
    "Overall, it took ~550 episodes to converge"
   ]
  },
  {
   "cell_type": "raw",
   "metadata": {},
   "source": [
    "\n",
    "===========================================\n",
    "\n",
    "Episode 100\tIterations: 100\tAverage Score: 1.83\\\n",
    "\n",
    "Episode 200\tIterations: 200\tAverage Score: 6.38\\\n",
    "\n",
    "Episode 300\tIterations: 300\tAverage Score: 10.46\\\n",
    "\n",
    "Episode 400\tIterations: 400\tAverage Score: 14.26\\\n",
    "\n",
    "Episode 500\tIterations: 500\tAverage Score: 22.53\\\n",
    "\n",
    "Episode 600\tIterations: 600\tAverage Score: 29.52\\\n",
    "\n",
    "Episode 658\tAverage Score: 31.05\\\n",
    "\n",
    "Environment solved in 558 episodes!\tAverage Score: 31.05\\\n"
   ]
  },
  {
   "cell_type": "markdown",
   "metadata": {},
   "source": [
    "### 6. PLOT OF REWARDS"
   ]
  },
  {
   "cell_type": "code",
   "execution_count": 7,
   "metadata": {},
   "outputs": [
    {
     "data": {
      "image/png": "[encoded data removed]",
      "text/plain": [
       "<IPython.core.display.Image object>"
      ]
     },
     "execution_count": 7,
     "metadata": {},
     "output_type": "execute_result"
    }
   ],
   "source": [
    "fig = plt.figure()\\\n",
    "ax = fig.add_subplot(111)\\\n",
    "plt.plot(np.arange(1, len(scores)+1), scores)\\\n",
    "plt.ylabel('Score')\\\n",
    "plt.xlabel('Episode #')\\\n",
    "plt.show()\\"
   ]
  },
  {
   "cell_type": "markdown",
   "metadata": {},
   "source": [
    "### 7.  IDEAS FOR FUTURE WORK\n",
    "\n",
    "1. Fine tune hyper parameters, particularly Buffer-Size, Learning Rate, TAU\n",
    "\n",
    "2. Employ Generalized Advantage Estimation (GAE) and TRPO"
   ]
  },
  {
   "cell_type": "code",
   "execution_count": null,
   "metadata": {},
   "outputs": [],
   "source": []
  }
 ],
 "metadata": {
  "kernelspec": {
   "display_name": "drlnd",
   "language": "python",
   "name": "drlnd"
  },
  "language_info": {
   "codemirror_mode": {
    "name": "ipython",
    "version": 3
   },
   "file_extension": ".py",
   "mimetype": "text/x-python",
   "name": "python",
   "nbconvert_exporter": "python",
   "pygments_lexer": "ipython3",
   "version": "3.7.6"
  }
 },
 "nbformat": 4,
 "nbformat_minor": 2
}
